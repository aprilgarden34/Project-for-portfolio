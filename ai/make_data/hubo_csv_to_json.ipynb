{
 "cells": [
  {
   "cell_type": "code",
   "execution_count": 47,
   "metadata": {},
   "outputs": [
    {
     "name": "stdout",
     "output_type": "stream",
     "text": [
      "{'id': 26901, 'name': '동백나무', 'flower_lang': '겸손한 아름다움, 자랑', 'info': '동백나무는 모든 부분이 버릴 것 없는 보배로운 식물이다. 일년 내내 표면이 반지르르한 잎이나 이른 봄에 빨갛게 피었다 일순간 떨어지는 꽃도 인상적이고 가을에 열리는 열매는 옛날 우리 어머님들이 머리손질과 화장품에 이용하기도 했던 동백기름의 원료이다.', 'type': '차나무에 속하는 상록성 소교목이다. 대표적인 난지형 식물로 지구상에 약 300여 종이 분포하고 있다. 우리나라에서는 내륙으로는 전북 고창 선운사, 해안으로는 황해도 장삿곶까지 자생한다.', 'native': '중국, 대만, 일본; 황해도, 충청남도, 전라남북도, 경상남북도, 제주도.', 'refine_native': '제주 전북 경남 충남 전남 경북', 'flower': '양성꽃으로 적색이고 잎겨드랑이 또는 가지 끝에 1개씩 달려 1월 ~ 3월에 피고 반 정도 벌어지며 작은포는 둥글고 겉에 짧은 백색 털이 있다. 꽃받침조각은 5개이며 길이 1~2cm로서 달걀형의 원형이고 꽃잎은 5~7개가 밑에서 합쳐지며 길이 3~5cm로서 수술과도 합쳐지고 수술은 노란색으로 90~100개가 있다. 꽃밥이 황색이고 씨방에 털이 없으며 암술대가 3개로 갈라진다. 4월에 많이 개화한다.', 'date': '1월 ~ 3월', 'months': '1,2,3', 'seasons': '겨울,봄', 'imgs': 'http://www.nihhs.go.kr/user/AttachFiles/FLOWF/SFLOWF/0203-3.jpg,http://www.nihhs.go.kr/user/AttachFiles/FLOWF/SFLOWF/0203-2.jpg,http://www.nihhs.go.kr/user/AttachFiles/FLOWF/SFLOWF/0203-1.jpg'}\n",
      "{'id': 26901, 'name': '동백나무', 'flower_lang': '겸손한 아름다움, 자랑', 'info': '동백나무는 모든 부분이 버릴 것 없는 보배로운 식물이다. 일년 내내 표면이 반지르르한 잎이나 이른 봄에 빨갛게 피었다 일순간 떨어지는 꽃도 인상적이고 가을에 열리는 열매는 옛날 우리 어머님들이 머리손질과 화장품에 이용하기도 했던 동백기름의 원료이다.', 'type': '차나무에 속하는 상록성 소교목이다. 대표적인 난지형 식물로 지구상에 약 300여 종이 분포하고 있다. 우리나라에서는 내륙으로는 전북 고창 선운사, 해안으로는 황해도 장삿곶까지 자생한다.', 'native': '중국, 대만, 일본; 황해도, 충청남도, 전라남북도, 경상남북도, 제주도.', 'refine_native': ['제주', '전북', '경남', '충남', '전남', '경북'], 'flower': '양성꽃으로 적색이고 잎겨드랑이 또는 가지 끝에 1개씩 달려 1월 ~ 3월에 피고 반 정도 벌어지며 작은포는 둥글고 겉에 짧은 백색 털이 있다. 꽃받침조각은 5개이며 길이 1~2cm로서 달걀형의 원형이고 꽃잎은 5~7개가 밑에서 합쳐지며 길이 3~5cm로서 수술과도 합쳐지고 수술은 노란색으로 90~100개가 있다. 꽃밥이 황색이고 씨방에 털이 없으며 암술대가 3개로 갈라진다. 4월에 많이 개화한다.', 'date': '1월 ~ 3월', 'months': [1, 2, 3], 'seasons': ['겨울', '봄'], 'imgs': ['http://www.nihhs.go.kr/user/AttachFiles/FLOWF/SFLOWF/0203-3.jpg', 'http://www.nihhs.go.kr/user/AttachFiles/FLOWF/SFLOWF/0203-2.jpg', 'http://www.nihhs.go.kr/user/AttachFiles/FLOWF/SFLOWF/0203-1.jpg']}\n"
     ]
    }
   ],
   "source": [
    "import pandas as pd\n",
    "import json\n",
    "# df = pd.read_csv('./220611_hubo_dataset.csv')\n",
    "img=pd.read_csv('./220617_30flowers_with_imgs.csv')\n",
    "\n",
    "js=img.to_json(orient='records', force_ascii=False)\n",
    "\n",
    "js=json.loads(js)\n",
    "\n",
    "print(js[1])\n",
    "\n",
    "# js=df.to_json(orient='records', force_ascii=False)\n",
    "\n",
    "# js=json.loads(js)\n",
    "\n",
    "for i in js:\n",
    "    # print(js[0])\n",
    "\n",
    "    tmp=i['months'].replace(\"'\",\"\").replace('[','').replace(']','').split(\",\")\n",
    "    tmp=list(map(int,tmp))\n",
    "    i['months']=tmp\n",
    "    # print(tmp)\n",
    "\n",
    "    tmp=i['seasons'].replace(\"'\",\"\").replace('[','').replace(']','').split(\",\")\n",
    "    i['seasons']=tmp\n",
    "    # print(tmp)\n",
    "\n",
    "    tmp=i['refine_native'].split(\" \")\n",
    "    i['refine_native']=tmp\n",
    "    # print(tmp)\n",
    "\n",
    "    tmp=i['imgs'].split(\",\")\n",
    "    i['imgs']=tmp\n",
    "    # print(tmp)\n",
    "\n",
    "print(js[1])\n"
   ]
  },
  {
   "cell_type": "code",
   "execution_count": 48,
   "metadata": {},
   "outputs": [],
   "source": [
    "# json 파일로 저장\n",
    "\n",
    "with open('./hubo.json','w',encoding='utf-8') as file:\n",
    "    # df.to_json(file,orient='records', force_ascii=False)\n",
    "    json.dump(js,file,ensure_ascii=False)"
   ]
  }
 ],
 "metadata": {
  "interpreter": {
   "hash": "369f2c481f4da34e4445cda3fffd2e751bd1c4d706f27375911949ba6bb62e1c"
  },
  "kernelspec": {
   "display_name": "Python 3.10.2 64-bit",
   "language": "python",
   "name": "python3"
  },
  "language_info": {
   "codemirror_mode": {
    "name": "ipython",
    "version": 3
   },
   "file_extension": ".py",
   "mimetype": "text/x-python",
   "name": "python",
   "nbconvert_exporter": "python",
   "pygments_lexer": "ipython3",
   "version": "3.10.2"
  },
  "orig_nbformat": 4
 },
 "nbformat": 4,
 "nbformat_minor": 2
}
